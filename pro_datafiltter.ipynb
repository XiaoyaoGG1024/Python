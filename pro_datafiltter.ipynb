{
 "cells": [
  {
   "cell_type": "markdown",
   "id": "b8b893cb",
   "metadata": {},
   "source": [
    "# 导包"
   ]
  },
  {
   "cell_type": "code",
   "execution_count": 1,
   "id": "e4695d15",
   "metadata": {},
   "outputs": [],
   "source": [
    "import pandas as pd"
   ]
  },
  {
   "cell_type": "markdown",
   "id": "b7678b8d",
   "metadata": {},
   "source": [
    "# 读取文件"
   ]
  },
  {
   "cell_type": "code",
   "execution_count": 2,
   "id": "17f714a4",
   "metadata": {},
   "outputs": [],
   "source": [
    "data=pd.read_csv(\"./data/logon400w.csv\",dtype=object)"
   ]
  },
  {
   "cell_type": "code",
   "execution_count": 4,
   "id": "52709b92",
   "metadata": {},
   "outputs": [
    {
     "data": {
      "text/plain": [
       "(4093714, 16)"
      ]
     },
     "execution_count": 4,
     "metadata": {},
     "output_type": "execute_result"
    }
   ],
   "source": [
    "data.shape"
   ]
  },
  {
   "cell_type": "markdown",
   "id": "59fb025e",
   "metadata": {},
   "source": [
    "# 数据清洗"
   ]
  },
  {
   "cell_type": "markdown",
   "id": "f0477d7a",
   "metadata": {},
   "source": [
    "## 1.选取子集"
   ]
  },
  {
   "cell_type": "markdown",
   "id": "447a0925",
   "metadata": {},
   "source": [
    "### 查看数据类型"
   ]
  },
  {
   "cell_type": "code",
   "execution_count": 5,
   "id": "f3c37082",
   "metadata": {},
   "outputs": [
    {
     "data": {
      "text/plain": [
       "Unnamed: 0     object\n",
       "id             object\n",
       "userid         object\n",
       "loginIp        object\n",
       "netType        object\n",
       "Browser        object\n",
       "operaSys       object\n",
       "devicemodel    object\n",
       "IpCountry      object\n",
       "IpProvince     object\n",
       "IpCity         object\n",
       "IpDistrict     object\n",
       "IpIsp          object\n",
       "IpType         object\n",
       "UserAgent      object\n",
       "LogonDate      object\n",
       "dtype: object"
      ]
     },
     "execution_count": 5,
     "metadata": {},
     "output_type": "execute_result"
    }
   ],
   "source": [
    "data.dtypes"
   ]
  },
  {
   "cell_type": "markdown",
   "id": "1a21df37",
   "metadata": {},
   "source": [
    "### 修改登录日期为日期型数据"
   ]
  },
  {
   "cell_type": "code",
   "execution_count": 6,
   "id": "c770e8bf",
   "metadata": {},
   "outputs": [],
   "source": [
    "data[\"LogonDate\"]=pd.to_datetime(data[\"LogonDate\"])"
   ]
  },
  {
   "cell_type": "code",
   "execution_count": 7,
   "id": "efe2d7f5",
   "metadata": {},
   "outputs": [
    {
     "data": {
      "text/plain": [
       "Unnamed: 0             object\n",
       "id                     object\n",
       "userid                 object\n",
       "loginIp                object\n",
       "netType                object\n",
       "Browser                object\n",
       "operaSys               object\n",
       "devicemodel            object\n",
       "IpCountry              object\n",
       "IpProvince             object\n",
       "IpCity                 object\n",
       "IpDistrict             object\n",
       "IpIsp                  object\n",
       "IpType                 object\n",
       "UserAgent              object\n",
       "LogonDate      datetime64[ns]\n",
       "dtype: object"
      ]
     },
     "execution_count": 7,
     "metadata": {},
     "output_type": "execute_result"
    }
   ],
   "source": [
    "data.dtypes"
   ]
  },
  {
   "cell_type": "markdown",
   "id": "e6e22830",
   "metadata": {},
   "source": [
    "### 取出各年份的数据"
   ]
  },
  {
   "cell_type": "code",
   "execution_count": 8,
   "id": "e629e967",
   "metadata": {},
   "outputs": [],
   "source": [
    "data2016=data[data[\"LogonDate\"]<\"2017-01-01\"]"
   ]
  },
  {
   "cell_type": "code",
   "execution_count": 9,
   "id": "79c9e82b",
   "metadata": {},
   "outputs": [],
   "source": [
    "data2017=data[data[\"LogonDate\"]<\"2018-01-01\"]\n",
    "data2017=data2017[data2017[\"LogonDate\"]>\"2016-12-31\"]"
   ]
  },
  {
   "cell_type": "code",
   "execution_count": 10,
   "id": "95106725",
   "metadata": {},
   "outputs": [],
   "source": [
    "data2018=data[data[\"LogonDate\"]<\"2019-01-01\"]\n",
    "data2018=data2018[data2018[\"LogonDate\"]>\"2017-12-31\"]"
   ]
  },
  {
   "cell_type": "code",
   "execution_count": 11,
   "id": "ead004dd",
   "metadata": {},
   "outputs": [],
   "source": [
    "data2019=data[data[\"LogonDate\"]<\"2020-01-01\"]\n",
    "data2019=data2019[data2019[\"LogonDate\"]>\"2018-12-31\"]"
   ]
  },
  {
   "cell_type": "code",
   "execution_count": 12,
   "id": "6972a801",
   "metadata": {},
   "outputs": [],
   "source": [
    "data2020=data[data[\"LogonDate\"]<\"2021-01-01\"]\n",
    "data2020=data2020[data2020[\"LogonDate\"]>\"2019-12-31\"]"
   ]
  },
  {
   "cell_type": "code",
   "execution_count": 13,
   "id": "67b1cdfb",
   "metadata": {},
   "outputs": [],
   "source": [
    "data2021=data[data[\"LogonDate\"]<\"2022-01-01\"]\n",
    "data2021=data2021[data2021[\"LogonDate\"]>\"2020-12-31\"]"
   ]
  },
  {
   "cell_type": "code",
   "execution_count": 14,
   "id": "973b0b16",
   "metadata": {},
   "outputs": [],
   "source": [
    "data2022=data[data[\"LogonDate\"]<\"2023-01-01\"]\n",
    "data2022=data2022[data2022[\"LogonDate\"]>=\"2022-01-01\"]"
   ]
  },
  {
   "cell_type": "code",
   "execution_count": 15,
   "id": "d2e5207c",
   "metadata": {},
   "outputs": [],
   "source": [
    "data2016.to_csv(\"./data/2016.csv\")\n",
    "data2017.to_csv(\"./data/2017.csv\")\n",
    "data2018.to_csv(\"./data/2018.csv\")\n",
    "data2019.to_csv(\"./data/2019.csv\")\n",
    "data2020.to_csv(\"./data/2020.csv\")\n",
    "data2021.to_csv(\"./data/2021.csv\")\n",
    "data2022.to_csv(\"./data/2022.csv\")"
   ]
  },
  {
   "cell_type": "code",
   "execution_count": null,
   "id": "cdfd02ca",
   "metadata": {},
   "outputs": [],
   "source": []
  }
 ],
 "metadata": {
  "kernelspec": {
   "display_name": "Python 3 (ipykernel)",
   "language": "python",
   "name": "python3"
  },
  "language_info": {
   "codemirror_mode": {
    "name": "ipython",
    "version": 3
   },
   "file_extension": ".py",
   "mimetype": "text/x-python",
   "name": "python",
   "nbconvert_exporter": "python",
   "pygments_lexer": "ipython3",
   "version": "3.9.7"
  },
  "toc": {
   "base_numbering": 1,
   "nav_menu": {},
   "number_sections": true,
   "sideBar": true,
   "skip_h1_title": false,
   "title_cell": "Table of Contents",
   "title_sidebar": "Contents",
   "toc_cell": false,
   "toc_position": {
    "height": "calc(100% - 180px)",
    "left": "10px",
    "top": "150px",
    "width": "189.825px"
   },
   "toc_section_display": true,
   "toc_window_display": true
  }
 },
 "nbformat": 4,
 "nbformat_minor": 5
}
